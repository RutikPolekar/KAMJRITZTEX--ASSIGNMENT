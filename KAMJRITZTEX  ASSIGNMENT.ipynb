{
 "cells": [
  {
   "cell_type": "code",
   "execution_count": 1,
   "id": "22dab979",
   "metadata": {},
   "outputs": [],
   "source": [
    "import pandas as pd              #Used for data manipulation and analysis\n",
    "import requests                  #Allows us to send HTTP requests to websites to get the HTML content.\n",
    "from bs4 import BeautifulSoup    # extracting data from website\n",
    "import matplotlib.pyplot as plt  # data visualization \n",
    "import sqlite3                   # Used for creating and managing an SQLite database."
   ]
  },
  {
   "cell_type": "code",
   "execution_count": 37,
   "id": "b6d7e07a",
   "metadata": {},
   "outputs": [],
   "source": [
    "# Function to scrape product data from Amazon\n",
    "\n",
    "def scrape_amazon():\n",
    "    url = 'https://www.amazon.com/s?k=laptop'\n",
    "    headers = {\"User-Agent\": \"Mozilla/5.0 (Windows NT 10.0; Win64; x64) AppleWebKit/537.36 (KHTML, like Gecko) Chrome/91.0.4472.124 Safari/537.36\"}\n",
    "    response = requests.get(url, headers=headers)\n",
    "    soup = BeautifulSoup(response.text, 'html.parser')\n",
    "    products = soup.find_all('div', {'data-component-type': 's-search-result'})\n",
    "\n",
    "    product_list = []\n",
    "    for product in products[:5]:  # Limiting to 5 products for simplicity\n",
    "        name = product.h2.text.strip()\n",
    "        price = product.find('span', 'a-price-whole')\n",
    "        if price:\n",
    "            price = price.text.replace(',', '').replace('$', '').strip()\n",
    "            product_list.append({'name': name, 'price': float(price)})\n",
    "    \n",
    "    return pd.DataFrame(product_list)\n",
    "\n"
   ]
  },
  {
   "cell_type": "code",
   "execution_count": 39,
   "id": "b7d9f3cc",
   "metadata": {},
   "outputs": [],
   "source": [
    "# Function to scrape product data from eBay\n",
    "\n",
    "def scrape_ebay():\n",
    "    url = 'https://www.ebay.com/sch/i.html?_nkw=laptop'\n",
    "    response = requests.get(url)\n",
    "    soup = BeautifulSoup(response.text, 'html.parser')\n",
    "    products = soup.find_all('li', {'class': 's-item'})\n",
    "\n",
    "    product_list = []\n",
    "    for product in products[:5]:  # Limiting to 5 products for simplicity\n",
    "        name_tag = product.find('h3', class_='s-item__title')\n",
    "        price_tag = product.find('span', class_='s-item__price')\n",
    "        if name_tag and price_tag:\n",
    "            name = name_tag.text.strip()\n",
    "            price = price_tag.text.replace(',', '').replace('$', '').strip().split()[0]\n",
    "            try:\n",
    "                product_list.append({'name': name, 'price': float(price)})\n",
    "            except ValueError:\n",
    "                continue\n",
    "    \n",
    "    return pd.DataFrame(product_list)"
   ]
  },
  {
   "cell_type": "code",
   "execution_count": 41,
   "id": "b5bc5991",
   "metadata": {},
   "outputs": [],
   "source": [
    "# Scrape data from both websites\n",
    "\n",
    "data_amazon = scrape_amazon()\n",
    "data_ebay = scrape_ebay()"
   ]
  },
  {
   "cell_type": "code",
   "execution_count": 44,
   "id": "70592d6f",
   "metadata": {},
   "outputs": [],
   "source": [
    "# Check if both dataframes have the 'name' column\n",
    "\n",
    "if 'name' in data_amazon.columns and 'name' in data_ebay.columns:\n",
    "    # Merge dataframes on product names\n",
    "    merged_data = pd.merge(data_amazon, data_ebay, on='name', how='outer', suffixes=('_amazon', '_ebay'))"
   ]
  },
  {
   "cell_type": "code",
   "execution_count": 46,
   "id": "906114db",
   "metadata": {},
   "outputs": [
    {
     "ename": "NameError",
     "evalue": "name 'merged_data' is not defined",
     "output_type": "error",
     "traceback": [
      "\u001b[0;31m---------------------------------------------------------------------------\u001b[0m",
      "\u001b[0;31mNameError\u001b[0m                                 Traceback (most recent call last)",
      "Input \u001b[0;32mIn [46]\u001b[0m, in \u001b[0;36m<cell line: 4>\u001b[0;34m()\u001b[0m\n\u001b[1;32m      1\u001b[0m \u001b[38;5;66;03m# Plot the comparison\u001b[39;00m\n\u001b[1;32m      3\u001b[0m plt\u001b[38;5;241m.\u001b[39mfigure(figsize\u001b[38;5;241m=\u001b[39m(\u001b[38;5;241m6\u001b[39m,\u001b[38;5;241m6\u001b[39m))\n\u001b[0;32m----> 4\u001b[0m plt\u001b[38;5;241m.\u001b[39mplot(\u001b[43mmerged_data\u001b[49m[\u001b[38;5;124m'\u001b[39m\u001b[38;5;124mname\u001b[39m\u001b[38;5;124m'\u001b[39m], merged_data[\u001b[38;5;124m'\u001b[39m\u001b[38;5;124mprice_amazon\u001b[39m\u001b[38;5;124m'\u001b[39m], label\u001b[38;5;241m=\u001b[39m\u001b[38;5;124m'\u001b[39m\u001b[38;5;124mAmazon\u001b[39m\u001b[38;5;124m'\u001b[39m, marker\u001b[38;5;241m=\u001b[39m\u001b[38;5;124m'\u001b[39m\u001b[38;5;124mo\u001b[39m\u001b[38;5;124m'\u001b[39m)\n\u001b[1;32m      5\u001b[0m plt\u001b[38;5;241m.\u001b[39mplot(merged_data[\u001b[38;5;124m'\u001b[39m\u001b[38;5;124mname\u001b[39m\u001b[38;5;124m'\u001b[39m], merged_data[\u001b[38;5;124m'\u001b[39m\u001b[38;5;124mprice_ebay\u001b[39m\u001b[38;5;124m'\u001b[39m], label\u001b[38;5;241m=\u001b[39m\u001b[38;5;124m'\u001b[39m\u001b[38;5;124meBay\u001b[39m\u001b[38;5;124m'\u001b[39m, marker\u001b[38;5;241m=\u001b[39m\u001b[38;5;124m'\u001b[39m\u001b[38;5;124mx\u001b[39m\u001b[38;5;124m'\u001b[39m)\n\u001b[1;32m      6\u001b[0m plt\u001b[38;5;241m.\u001b[39mxlabel(\u001b[38;5;124m'\u001b[39m\u001b[38;5;124mProduct Name\u001b[39m\u001b[38;5;124m'\u001b[39m)\n",
      "\u001b[0;31mNameError\u001b[0m: name 'merged_data' is not defined"
     ]
    },
    {
     "data": {
      "text/plain": [
       "<Figure size 432x432 with 0 Axes>"
      ]
     },
     "metadata": {},
     "output_type": "display_data"
    }
   ],
   "source": [
    "# Plot the comparison\n",
    "\n",
    "plt.figure(figsize =(10,6))\n",
    "plt.plot(merged_data['name'], merged_data['price_amazon'], label='Amazon', marker='o')\n",
    "plt.plot(merged_data['name'], merged_data['price_ebay'], label='eBay', marker='x')\n",
    "plt.xlabel('Product Name')\n",
    "plt.ylabel('Price')\n",
    "plt.title('Price Comparison Between Amazon and eBay')\n",
    "plt.xticks(rotation=90)\n",
    "plt.legend()\n",
    "plt.tight_layout()\n",
    "plt.savefig('/mnt/data/price_comparison.png')\n",
    "plt.show()"
   ]
  },
  {
   "cell_type": "code",
   "execution_count": 30,
   "id": "10ed6e05",
   "metadata": {},
   "outputs": [
    {
     "ename": "IndentationError",
     "evalue": "unexpected indent (3268095706.py, line 2)",
     "output_type": "error",
     "traceback": [
      "\u001b[0;36m  Input \u001b[0;32mIn [30]\u001b[0;36m\u001b[0m\n\u001b[0;31m    conn = sqlite3.connect('/mnt/data/ecommerce_data.db')\u001b[0m\n\u001b[0m    ^\u001b[0m\n\u001b[0;31mIndentationError\u001b[0m\u001b[0;31m:\u001b[0m unexpected indent\n"
     ]
    }
   ],
   "source": [
    "   # Save the merged data to an SQLite database\n",
    "    conn = sqlite3.connect('/mnt/data/ecommerce_data.db')\n",
    "    merged_data.to_sql('product_prices', conn, if_exists='replace', index=False)"
   ]
  },
  {
   "cell_type": "code",
   "execution_count": null,
   "id": "a3d8563e",
   "metadata": {},
   "outputs": [],
   "source": []
  }
 ],
 "metadata": {
  "kernelspec": {
   "display_name": "Python 3 (ipykernel)",
   "language": "python",
   "name": "python3"
  },
  "language_info": {
   "codemirror_mode": {
    "name": "ipython",
    "version": 3
   },
   "file_extension": ".py",
   "mimetype": "text/x-python",
   "name": "python",
   "nbconvert_exporter": "python",
   "pygments_lexer": "ipython3",
   "version": "3.9.12"
  }
 },
 "nbformat": 4,
 "nbformat_minor": 5
}
